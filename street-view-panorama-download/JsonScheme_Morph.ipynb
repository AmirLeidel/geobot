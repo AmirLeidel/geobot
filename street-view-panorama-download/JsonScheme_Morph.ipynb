{
 "cells": [
  {
   "cell_type": "code",
   "execution_count": null,
   "metadata": {},
   "outputs": [],
   "source": [
    "import encodings\n",
    "import json\n",
    "from collections import defaultdict\n",
    "import geocoder\n",
    "\n",
    "dictionary = defaultdict(list)\n",
    "\n",
    "with open('pano_locations_5.json', 'r') as f:\n",
    "  data = json.load(f)\n",
    "  \n",
    "for i, location in enumerate(data[2608:10000], 2608):\n",
    "    panolat,panolng,panoid = location\n",
    "    try:\n",
    "        g = geocoder.osm([panolat, panolng], method='reverse')\n",
    "\n",
    "        country = g.json['country_code']\n",
    "        corrupted = False\n",
    "\n",
    "        data = {\n",
    "        \"id\": i,\n",
    "        \"corrupted\": corrupted,\n",
    "        \"lat\": panolat,\n",
    "        \"lng\": panolng,\n",
    "        \"panoid\": panoid,\n",
    "        \"country\": country\n",
    "        }\n",
    "    except Exception as e:\n",
    "        corrupted = True\n",
    "        data = {\n",
    "        \"id\": i,\n",
    "        \"corrupted\": corrupted,\n",
    "        \"lat\": panolat,\n",
    "        \"lng\": panolng,\n",
    "        \"panoid\": panoid\n",
    "        }\n",
    "\n",
    "    dictionary[0].append(data)\n",
    "\n",
    "    json_object = json.dumps(dictionary, indent=4)\n",
    "\n",
    "    with open(\"sample1.json\", \"w\") as outfile:\n",
    "        outfile.write(json_object)"
   ]
  }
 ],
 "metadata": {
  "kernelspec": {
   "display_name": "Python 3",
   "language": "python",
   "name": "python3"
  },
  "language_info": {
   "name": "python",
   "version": "3.9.0"
  },
  "orig_nbformat": 4
 },
 "nbformat": 4,
 "nbformat_minor": 2
}
